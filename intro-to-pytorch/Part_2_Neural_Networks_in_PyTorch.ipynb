{
  "nbformat": 4,
  "nbformat_minor": 0,
  "metadata": {
    "kernelspec": {
      "display_name": "Python [default]",
      "language": "python",
      "name": "python3"
    },
    "language_info": {
      "codemirror_mode": {
        "name": "ipython",
        "version": 3
      },
      "file_extension": ".py",
      "mimetype": "text/x-python",
      "name": "python",
      "nbconvert_exporter": "python",
      "pygments_lexer": "ipython3",
      "version": "3.6.4"
    },
    "colab": {
      "name": "Part 2 - Neural Networks in PyTorch.ipynb",
      "version": "0.3.2",
      "provenance": [],
      "collapsed_sections": []
    }
  },
  "cells": [
    {
      "cell_type": "markdown",
      "metadata": {
        "id": "ZJ8TkYW7UQLV",
        "colab_type": "text"
      },
      "source": [
        "# Neural networks with PyTorch 使用Pytorch实现神经网络\n",
        "\n",
        "深度学习网络就是有成百上千的神经层构成了，因为有很多很多层，所以才称之为<深度>。你能够像上文一样，只用一个权重矩阵就能够实现构建网络，但是在现实中，这么做非常的困难。在Pytorch中，`nn`模块提供了一个高效构建网络的接口。\n"
      ]
    },
    {
      "cell_type": "code",
      "metadata": {
        "id": "3u6Os9hCX_ta",
        "colab_type": "code",
        "outputId": "a08a6e12-888e-49de-de55-21f2144fd5fc",
        "colab": {
          "base_uri": "https://localhost:8080/",
          "height": 34
        }
      },
      "source": [
        "# 下载必要数据\n",
        "import urllib.request\n",
        "urllib.request.urlretrieve('https://raw.githubusercontent.com/udacity/deep-learning-v2-pytorch/master/intro-to-pytorch/helper.py', 'helper.py')"
      ],
      "execution_count": 0,
      "outputs": [
        {
          "output_type": "execute_result",
          "data": {
            "text/plain": [
              "('helper.py', <http.client.HTTPMessage at 0x7fdd85cac8d0>)"
            ]
          },
          "metadata": {
            "tags": []
          },
          "execution_count": 1
        }
      ]
    },
    {
      "cell_type": "code",
      "metadata": {
        "id": "wV7b1ljpUQLc",
        "colab_type": "code",
        "colab": {}
      },
      "source": [
        "# 导入必要的模块\n",
        "\n",
        "%matplotlib inline\n",
        "%config InlineBackend.figure_format = 'retina'\n",
        "import numpy as np\n",
        "import torch\n",
        "\n",
        "import helper\n",
        "\n",
        "import matplotlib.pyplot as plt\n"
      ],
      "execution_count": 0,
      "outputs": []
    },
    {
      "cell_type": "markdown",
      "metadata": {
        "id": "fqXcJVGTUQLs",
        "colab_type": "text"
      },
      "source": [
        "现在我们来构建一个大型网络来解决手写输入的识别问题。这里我们使用的MNIST数据库，里面的图片为28x28灰度手写数字，如下图所示。\n",
        "\n",
        "<img src='https://github.com/yangliuav/deep-learning-with-pytorch-Chinese-version/blob/master/intro-to-pytorch/assets/mnist.png?raw=1'>\n",
        "\n",
        "我们的目标就是构建一个神经网络，进而完成手写的识别。\n",
        "\n",
        "第一，我们需要下载数据，下面的代码可能有点复杂，我们后续会相应的解释，请不要放弃。\n"
      ]
    },
    {
      "cell_type": "code",
      "metadata": {
        "id": "uflng1j9UQLt",
        "colab_type": "code",
        "outputId": "1ce460f9-3c75-4b32-bb00-cec40ccdaec3",
        "colab": {
          "base_uri": "https://localhost:8080/",
          "height": 255
        }
      },
      "source": [
        "### 先下载数据\n",
        "\n",
        "from torchvision import datasets, transforms\n",
        "\n",
        "# 定义一个tranform（变换）来对数据进行归一化\n",
        " \n",
        "transform = transforms.Compose([transforms.ToTensor(),\n",
        "                              transforms.Normalize((0.5,), (0.5,)),\n",
        "                              ])\n",
        "# 下载数据\n",
        "trainset = datasets.MNIST('~/.pytorch/MNIST_data/', download=True, train=True, transform=transform)\n",
        "trainloader = torch.utils.data.DataLoader(trainset, batch_size=64, shuffle=True)"
      ],
      "execution_count": 0,
      "outputs": [
        {
          "output_type": "stream",
          "text": [
            "\r0it [00:00, ?it/s]"
          ],
          "name": "stderr"
        },
        {
          "output_type": "stream",
          "text": [
            "Downloading http://yann.lecun.com/exdb/mnist/train-images-idx3-ubyte.gz to /root/.pytorch/MNIST_data/MNIST/raw/train-images-idx3-ubyte.gz\n"
          ],
          "name": "stdout"
        },
        {
          "output_type": "stream",
          "text": [
            "9920512it [00:01, 9243688.96it/s]                            \n"
          ],
          "name": "stderr"
        },
        {
          "output_type": "stream",
          "text": [
            "Extracting /root/.pytorch/MNIST_data/MNIST/raw/train-images-idx3-ubyte.gz\n"
          ],
          "name": "stdout"
        },
        {
          "output_type": "stream",
          "text": [
            "  0%|          | 0/28881 [00:00<?, ?it/s]"
          ],
          "name": "stderr"
        },
        {
          "output_type": "stream",
          "text": [
            "Downloading http://yann.lecun.com/exdb/mnist/train-labels-idx1-ubyte.gz to /root/.pytorch/MNIST_data/MNIST/raw/train-labels-idx1-ubyte.gz\n"
          ],
          "name": "stdout"
        },
        {
          "output_type": "stream",
          "text": [
            "32768it [00:00, 140088.73it/s]           \n",
            "  0%|          | 0/1648877 [00:00<?, ?it/s]"
          ],
          "name": "stderr"
        },
        {
          "output_type": "stream",
          "text": [
            "Extracting /root/.pytorch/MNIST_data/MNIST/raw/train-labels-idx1-ubyte.gz\n",
            "Downloading http://yann.lecun.com/exdb/mnist/t10k-images-idx3-ubyte.gz to /root/.pytorch/MNIST_data/MNIST/raw/t10k-images-idx3-ubyte.gz\n"
          ],
          "name": "stdout"
        },
        {
          "output_type": "stream",
          "text": [
            "1654784it [00:00, 2324229.35it/s]                            \n",
            "0it [00:00, ?it/s]"
          ],
          "name": "stderr"
        },
        {
          "output_type": "stream",
          "text": [
            "Extracting /root/.pytorch/MNIST_data/MNIST/raw/t10k-images-idx3-ubyte.gz\n",
            "Downloading http://yann.lecun.com/exdb/mnist/t10k-labels-idx1-ubyte.gz to /root/.pytorch/MNIST_data/MNIST/raw/t10k-labels-idx1-ubyte.gz\n"
          ],
          "name": "stdout"
        },
        {
          "output_type": "stream",
          "text": [
            "8192it [00:00, 52135.96it/s]            \n"
          ],
          "name": "stderr"
        },
        {
          "output_type": "stream",
          "text": [
            "Extracting /root/.pytorch/MNIST_data/MNIST/raw/t10k-labels-idx1-ubyte.gz\n",
            "Processing...\n",
            "Done!\n"
          ],
          "name": "stdout"
        }
      ]
    },
    {
      "cell_type": "markdown",
      "metadata": {
        "id": "i0xAKE9nUQME",
        "colab_type": "text"
      },
      "source": [
        "我们先将训练数据加载到`trainloader`，并设置一个迭代器`iter(trainloader)`，随后我们用这个迭代器来遍历训练数据，这个过程有点类似于，\n",
        "\n",
        "```python\n",
        "for image, label in trainloader:\n",
        "    ## do things with images and labels\n",
        "```\n",
        "注意，`trainloader`的batch（批量）大小为64且`shuffle=True`。\n",
        "batch 大小:每次循环我们加载图片的数目。每次循环（运行一次网络）被称为一个*batch*。\n",
        "`shuffle=True`：每次加载数据，都会对数据进行打乱操作，这样有助于增加鲁棒性。\n",
        "这里为了演示方便，我们先知进行一次迭代，我们可以看到`images`张量的size为`(64, 1, 28, 28)`，其中\n",
        "64：每batch的加载64images。\n",
        "1： 一个颜色通道（灰度）。\n",
        "28x28：图像大小。\n"
      ]
    },
    {
      "cell_type": "code",
      "metadata": {
        "id": "cbpkVzplUQMJ",
        "colab_type": "code",
        "outputId": "bcfde18e-1bae-4eec-85b3-58f74fba8d0f",
        "colab": {
          "base_uri": "https://localhost:8080/",
          "height": 68
        }
      },
      "source": [
        "dataiter = iter(trainloader)\n",
        "images, labels = dataiter.next()\n",
        "print(type(images))\n",
        "print(images.shape)\n",
        "print(labels.shape)"
      ],
      "execution_count": 0,
      "outputs": [
        {
          "output_type": "stream",
          "text": [
            "<class 'torch.Tensor'>\n",
            "torch.Size([64, 1, 28, 28])\n",
            "torch.Size([64])\n"
          ],
          "name": "stdout"
        }
      ]
    },
    {
      "cell_type": "markdown",
      "metadata": {
        "id": "-9ULrnFIUQMR",
        "colab_type": "text"
      },
      "source": [
        "我们加载一副图像看一看他的样子。"
      ]
    },
    {
      "cell_type": "code",
      "metadata": {
        "id": "60JuKVqMUQMR",
        "colab_type": "code",
        "outputId": "c2d88417-d0be-4020-ea06-e9938f9cdb16",
        "colab": {
          "base_uri": "https://localhost:8080/",
          "height": 267
        }
      },
      "source": [
        "plt.imshow(images[1].numpy().squeeze(), cmap='Greys_r'); # squeeze（）函数将表示向量的数组转换为秩为1的数组"
      ],
      "execution_count": 0,
      "outputs": [
        {
          "output_type": "display_data",
          "data": {
            "image/png": "[encoded data removed]",
            "text/plain": [
              "<Figure size 432x288 with 1 Axes>"
            ]
          },
          "metadata": {
            "tags": [],
            "image/png": {
              "width": 253,
              "height": 250
            }
          }
        }
      ]
    },
    {
      "cell_type": "markdown",
      "metadata": {
        "id": "jy1oiFYAUQMZ",
        "colab_type": "text"
      },
      "source": [
        "我们先尝试使用权重矩阵和矩阵乘法构建一个简单的神经网路。在本文中，我们使用方便且强大的`nn`模块。\n",
        "\n",
        "到现在为止，我们构建的网络都是*全链接*网络或称之为*稠密*网路。也就是说，每个神经元（单元）都和下一层的每一个神经元都连接（有权非0）。在全连接网络中，每层输入必需是一维向量（因为会迭代多次，所以输入可以拼接成一个2D矩阵）。但是，因为我们的图像是一个28x28 二维张量，所以我们需要将他转化为一个一维向量。考虑到尺寸问题，我们将一个batch的图像由`(64, 1, 28, 28)`转换为`(64, 784)`（注：784= 28 * 28）。截止到目前为止我们完成了*展平*操作。\n",
        "\n",
        "现在我们已经有了一个完整的学习网络，这里我们要区分10个数字，所以网络输出为一个 1* 10的向量，每个元素的值为每个数字的概率。拥有最高概率的数字就是我们预测的数字。\n",
        "\n",
        "\n",
        "> **练习：** 展平一批图像`images`。然后使用随机权重和偏移量来构建一个神经网络。它是一个具有784个输入单元，256个隐藏单元和10个输出单元的多层网络。对于隐藏层，我们使用sigmoid激活。为了让输出层输出概率值，我们不对输出进行激活操作。"
      ]
    },
    {
      "cell_type": "code",
      "metadata": {
        "id": "dCqUDnhaUQMb",
        "colab_type": "code",
        "colab": {}
      },
      "source": [
        "## 解\n",
        "def activation(x):\n",
        "    return 1/(1+torch.exp(-x))\n",
        "\n",
        "# 展平数据\n",
        "inputs = images.view(images.shape[0], -1)\n",
        "\n",
        "# 创建参数\n",
        "w1 = torch.randn(784, 256)\n",
        "b1 = torch.randn(256)\n",
        "\n",
        "w2 = torch.randn(256, 10)\n",
        "b2 = torch.randn(10)\n",
        "\n",
        "h = activation(torch.mm(inputs, w1) + b1)\n",
        "\n",
        "out = torch.mm(h, w2) + b2"
      ],
      "execution_count": 0,
      "outputs": []
    },
    {
      "cell_type": "markdown",
      "metadata": {
        "id": "qPkfng2YUQMh",
        "colab_type": "text"
      },
      "source": [
        "**Now** 现在我们网络有了一个10个输入。每个输入网络的图像都能得到一个概率分布来告诉我们图像里的数字是什么。我们来举个例子：\n",
        "\n",
        "<img src='https://github.com/yangliuav/deep-learning-with-pytorch-Chinese-version/blob/master/intro-to-pytorch/assets/image_distribution.png?raw=1' width=500px>\n",
        "\n",
        "这里我们会发现每个类别的概率似乎差的不多，这是因为我们的网络还没有训练，而且起始的参数是随机的分布值。这里计算概率我们用的是[**softmax** function](https://en.wikipedia.org/wiki/Softmax_function)数学表达式为：\n",
        "$$\n",
        "\\Large \\sigma(x_i) = \\cfrac{e^{x_i}}{\\sum_k^K{e^{x_k}}}\n",
        "$$\n",
        "\n",
        "这里， $x_i$取值范围为0到1，这个公式其实还完成了归一化的操作，使所有概率的和为一。\n",
        "\n",
        "> **练习:** 实现一个`softmax`函数，来算并返回批处理中每个例子的概率分布。你需要注意，执行此操作时张量的大小变化。如果你有一个张量`a`大小为`(64, 10)`，还有一个张量`b`大小为`(64,)`，那么当你执行`a/b`时，就会报错，因为你的张量大小不匹配。您只想将`a`值除以一个值，你需要确保`b`的大小为`（64,1）`。 这样PyTorch会将`a`每行中的10个值除以'b`每行中的一个值。 你还需要为`torch.sum`中`dim`关键字赋值。 设置`dim = 0`取整行的总和，而'dim = 1`取整列的总和。"
      ]
    },
    {
      "cell_type": "code",
      "metadata": {
        "id": "F--wwV5gUQMj",
        "colab_type": "code",
        "outputId": "ee3778cf-3d4f-4d08-bccf-c7a4a51ce82a",
        "colab": {}
      },
      "source": [
        "## 解\n",
        "def softmax(x):\n",
        "    return torch.exp(x)/torch.sum(torch.exp(x), dim=1).view(-1, 1)\n",
        "\n",
        "probabilities = softmax(out)\n",
        "\n",
        "# 检查一下大小，应为(64, 10)\n",
        "print(probabilities.shape)\n",
        "# 他们的和为一?\n",
        "print(probabilities.sum(dim=1))"
      ],
      "execution_count": 0,
      "outputs": [
        {
          "output_type": "stream",
          "text": [
            "torch.Size([64, 10])\n",
            "tensor([ 1.0000,  1.0000,  1.0000,  1.0000,  1.0000,  1.0000,  1.0000,\n",
            "         1.0000,  1.0000,  1.0000,  1.0000,  1.0000,  1.0000,  1.0000,\n",
            "         1.0000,  1.0000,  1.0000,  1.0000,  1.0000,  1.0000,  1.0000,\n",
            "         1.0000,  1.0000,  1.0000,  1.0000,  1.0000,  1.0000,  1.0000,\n",
            "         1.0000,  1.0000,  1.0000,  1.0000,  1.0000,  1.0000,  1.0000,\n",
            "         1.0000,  1.0000,  1.0000,  1.0000,  1.0000,  1.0000,  1.0000,\n",
            "         1.0000,  1.0000,  1.0000,  1.0000,  1.0000,  1.0000,  1.0000,\n",
            "         1.0000,  1.0000,  1.0000,  1.0000,  1.0000,  1.0000,  1.0000,\n",
            "         1.0000,  1.0000,  1.0000,  1.0000,  1.0000,  1.0000,  1.0000,\n",
            "         1.0000])\n"
          ],
          "name": "stdout"
        }
      ]
    },
    {
      "cell_type": "markdown",
      "metadata": {
        "id": "kGlmcmCBUQMs",
        "colab_type": "text"
      },
      "source": [
        "## 采用PyTorch构建网路\n",
        "\n",
        "我们已经知道如何构建输出的分布了，现在我们使用PyTorch的`nn`模块来构建一个简单的网络。这里我们的网路有 784 个输入, 256 个隐藏单元， 10 个输出单元和 1 个 softmax 输出。"
      ]
    },
    {
      "cell_type": "code",
      "metadata": {
        "id": "Ns_-UzdpUQMt",
        "colab_type": "code",
        "colab": {}
      },
      "source": [
        "from torch import nn"
      ],
      "execution_count": 0,
      "outputs": []
    },
    {
      "cell_type": "code",
      "metadata": {
        "id": "jZ_AYNNbUQMy",
        "colab_type": "code",
        "colab": {}
      },
      "source": [
        "class Network(nn.Module):\n",
        "    def __init__(self):\n",
        "        super().__init__()\n",
        "        \n",
        "        # 输入和隐藏层为线性传递 \n",
        "        self.hidden = nn.Linear(784, 256)\n",
        "        # 隐藏层到输出层也为线性\n",
        "        self.output = nn.Linear(256, 10)\n",
        "        \n",
        "        # 定义 sigmoid 激活函数和softmax输出函数\n",
        "        self.sigmoid = nn.Sigmoid()\n",
        "        self.softmax = nn.Softmax(dim=1)\n",
        "        \n",
        "    def forward(self, x):\n",
        "        # 定义前向网络的每一步操作\n",
        "        x = self.hidden(x)\n",
        "        x = self.sigmoid(x)\n",
        "        x = self.output(x)\n",
        "        x = self.softmax(x)\n",
        "        \n",
        "        return x"
      ],
      "execution_count": 0,
      "outputs": []
    },
    {
      "cell_type": "markdown",
      "metadata": {
        "id": "lbB62SLmUQM2",
        "colab_type": "text"
      },
      "source": [
        "现在我们来对每一步进行一下讲解：\n",
        "\n",
        "```python\n",
        "class Network(nn.Module):\n",
        "```\n",
        "我们构建一个网路Network，它的父类为 `nn.Module`。使用`super().__init__()`来对父类进行初始化，这里包含了很多有用的参量（我们后续会讲）。当然这个网络你叫什么名字都可以。\n",
        "\n",
        "```python\n",
        "self.hidden = nn.Linear(784, 256)\n",
        "```\n",
        "\n",
        "定义了一个线性传递函数，$x\\mathbf{W} + b$ 其中，$W$ 和 $b$ 的张量由函数自动创建，你只需要定义一个输入和输出的大小就行了。如果你想访问其中的权重和方差，你可以使用`net.hidden.weight` 和 `net.hidden.bias`。\n",
        "\n",
        "```python\n",
        "self.output = nn.Linear(256, 10)\n",
        "```\n",
        "同样，我们设置一个256输入，10输出的线性传递函数。\n",
        "Similarly, this creates another linear transformation with 256 inputs and 10 outputs.\n",
        "\n",
        "```python\n",
        "self.sigmoid = nn.Sigmoid()\n",
        "self.softmax = nn.Softmax(dim=1)\n",
        "```\n",
        "我们定义一下sigmoid 激活函数和softmax输出函数，并设置`dim=1`来对tensor每一列求和。\n",
        "\n",
        "\n",
        "```python\n",
        "def forward(self, x):\n",
        "```\n",
        "`nn.Module`有一个前向的函数函数，张量 `x` 会顺次执行`__init__`的中定义的操作。\n",
        "\n",
        "```python\n",
        "x = self.hidden(x)\n",
        "x = self.sigmoid(x)\n",
        "x = self.output(x)\n",
        "x = self.softmax(x)\n",
        "```\n",
        "每一步的顺序要和你构建的网络相匹配，至于变量`x`的命名无关紧要。注意，网络的顺序以forward为准而不是以softmax为准，现在我们可以创建一个`Network`对象。"
      ]
    },
    {
      "cell_type": "code",
      "metadata": {
        "id": "fH76dlAFUQM2",
        "colab_type": "code",
        "outputId": "81f3626b-0dc7-4cfc-bd39-16b177358b7b",
        "colab": {
          "base_uri": "https://localhost:8080/",
          "height": 119
        }
      },
      "source": [
        "# 现在我们来定义一下这个网络\n",
        "model = Network()\n",
        "model"
      ],
      "execution_count": 0,
      "outputs": [
        {
          "output_type": "execute_result",
          "data": {
            "text/plain": [
              "Network(\n",
              "  (hidden): Linear(in_features=784, out_features=256, bias=True)\n",
              "  (output): Linear(in_features=256, out_features=10, bias=True)\n",
              "  (sigmoid): Sigmoid()\n",
              "  (softmax): Softmax()\n",
              ")"
            ]
          },
          "metadata": {
            "tags": []
          },
          "execution_count": 14
        }
      ]
    },
    {
      "cell_type": "markdown",
      "metadata": {
        "id": "qJFOlg-eUQM9",
        "colab_type": "text"
      },
      "source": [
        "您可以使用`torch.nn.functional`模块更简洁明了地定义网络。为了简便，我们通常将此模块命名为`F`。\n",
        "\n"
      ]
    },
    {
      "cell_type": "code",
      "metadata": {
        "id": "gGXs_vK7UQM-",
        "colab_type": "code",
        "colab": {}
      },
      "source": [
        "import torch.nn.functional as F\n",
        "\n",
        "class Network(nn.Module):\n",
        "    def __init__(self):\n",
        "        super().__init__()\n",
        "        # 输入层到隐藏层的线性连接\n",
        "        self.hidden = nn.Linear(784, 256)\n",
        "        # 隐藏层到输出层的线性连接\n",
        "        self.output = nn.Linear(256, 10)\n",
        "        \n",
        "    def forward(self, x):\n",
        "        # 调用F的sigmoid函数\n",
        "        x = F.sigmoid(self.hidden(x))\n",
        "        # 调用softmax激活函数\n",
        "        x = F.softmax(self.output(x), dim=1)\n",
        "        \n",
        "        return x"
      ],
      "execution_count": 0,
      "outputs": []
    },
    {
      "cell_type": "markdown",
      "metadata": {
        "id": "Xwp632nYUQNC",
        "colab_type": "text"
      },
      "source": [
        "### 激活函数\n",
        "\n",
        "到目前为止，我们只关注softmax激活，但从理论上来讲，我们可以使用任意非线性函数来作为激活函数。常见的激活函数为：\n",
        "Tanh（双曲正切函数）和ReLU（整流线性函数）。\n",
        "\n",
        "<img src=\"https://github.com/yangliuav/deep-learning-with-pytorch-Chinese-version/blob/master/intro-to-pytorch/assets/activation.png?raw=1\" width=700px>\n",
        "\n",
        "在实践中，ReLU用的最为普遍。\n"
      ]
    },
    {
      "cell_type": "markdown",
      "metadata": {
        "id": "eAmG1t9WUQND",
        "colab_type": "text"
      },
      "source": [
        "### 构建你的网络\n",
        "\n",
        "<img src=\"https://github.com/yangliuav/deep-learning-with-pytorch-Chinese-version/blob/master/intro-to-pytorch/assets/mlp_mnist.png?raw=1\" width=600px>\n",
        "\n",
        "> **练习:** 构建一个更复杂的网络，如上图所示，它经过，784个单元的输入层，128个单元的隐藏层，一个ReLU激活，64个单元的隐藏层，一个ReLU激活和一个带softmax激活的输出层。 \n",
        "\n",
        "'fc'表示完全连接的图层。 在编写解决方案时，使用`fc1`，`fc2`和`fc3`作为图层名称。"
      ]
    },
    {
      "cell_type": "code",
      "metadata": {
        "scrolled": true,
        "id": "SEep_48_UQNE",
        "colab_type": "code",
        "outputId": "bb94c191-75b5-4e04-b301-db8017bb5620",
        "colab": {}
      },
      "source": [
        "## 解\n",
        "\n",
        "class Network(nn.Module):\n",
        "    def __init__(self):\n",
        "        super().__init__()\n",
        "        # 按图定义各层的结构\n",
        "        self.fc1 = nn.Linear(784, 128)\n",
        "        self.fc2 = nn.Linear(128, 64)\n",
        "        self.fc3 = nn.Linear(64, 10)\n",
        "        \n",
        "    def forward(self, x):\n",
        "        \n",
        "        x = self.fc1(x)\n",
        "        x = F.relu(x)\n",
        "        x = self.fc2(x)\n",
        "        x = F.relu(x)\n",
        "        x = self.fc3(x)\n",
        "        x = F.softmax(x, dim=1)\n",
        "        \n",
        "        return x\n",
        "\n",
        "model = Network()\n",
        "model"
      ],
      "execution_count": 0,
      "outputs": [
        {
          "output_type": "execute_result",
          "data": {
            "text/plain": [
              "Network(\n",
              "  (fc1): Linear(in_features=784, out_features=128, bias=True)\n",
              "  (fc2): Linear(in_features=128, out_features=64, bias=True)\n",
              "  (fc3): Linear(in_features=64, out_features=10, bias=True)\n",
              ")"
            ]
          },
          "metadata": {
            "tags": []
          },
          "execution_count": 11
        }
      ]
    },
    {
      "cell_type": "markdown",
      "metadata": {
        "id": "CumlAwllUQNH",
        "colab_type": "text"
      },
      "source": [
        "### 初始化权重和偏移量\n",
        "\n",
        "权重和偏移量的初始化是自动完成的，当然你也可以对他进行订制化，可通过`model.fc1.weight`来进行取值。\n"
      ]
    },
    {
      "cell_type": "code",
      "metadata": {
        "id": "wzBgLurgUQNL",
        "colab_type": "code",
        "outputId": "7b0dccda-5107-4028-be70-75bb28d72763",
        "colab": {}
      },
      "source": [
        "print(model.fc1.weight)\n",
        "print(model.fc1.bias)"
      ],
      "execution_count": 0,
      "outputs": [
        {
          "output_type": "stream",
          "text": [
            "Parameter containing:\n",
            "tensor([[-2.3278e-02, -1.2170e-03, -1.1882e-02,  ...,  3.3567e-02,\n",
            "          4.4827e-03,  1.4840e-02],\n",
            "        [ 4.8464e-03,  1.9844e-02,  3.9791e-03,  ..., -2.6048e-02,\n",
            "         -3.5558e-02, -2.2386e-02],\n",
            "        [-1.9664e-02,  8.1722e-03,  2.6729e-02,  ..., -1.5122e-02,\n",
            "          2.7632e-02, -1.9567e-02],\n",
            "        ...,\n",
            "        [-3.3571e-02, -2.9686e-02, -2.1387e-02,  ...,  3.0770e-02,\n",
            "          1.0800e-02, -6.5941e-03],\n",
            "        [ 2.9749e-02,  1.2849e-02,  2.7320e-02,  ..., -1.9899e-02,\n",
            "          2.7131e-02,  2.2082e-02],\n",
            "        [ 1.3992e-02, -2.1520e-02,  3.1907e-02,  ...,  2.2435e-02,\n",
            "          1.1370e-02,  2.1568e-02]])\n",
            "Parameter containing:\n",
            "tensor(1.00000e-02 *\n",
            "       [-1.3222,  2.4094, -2.1571,  3.2237,  2.5302, -1.1515,  2.6382,\n",
            "        -2.3426, -3.5689, -1.0724, -2.8842, -2.9667, -0.5022,  1.1381,\n",
            "         1.2849,  3.0731, -2.0207, -2.3282,  0.3168, -2.8098, -1.0740,\n",
            "        -1.8273,  1.8692,  2.9404,  0.1783,  0.9391, -0.7085, -1.2522,\n",
            "        -2.7769,  0.0916, -1.4283, -0.3267, -1.6876, -1.8580, -2.8724,\n",
            "        -3.5512,  3.2155,  1.5532,  0.8836, -1.2911,  1.5735, -3.0478,\n",
            "        -1.3089, -2.2117,  1.5162, -0.8055, -1.3307, -2.4267, -1.2665,\n",
            "         0.8666, -2.2325, -0.4797, -0.5448, -0.6612, -0.6022,  2.6399,\n",
            "         1.4673, -1.5417, -2.9492, -2.7507,  0.6157, -0.0681, -0.8171,\n",
            "        -0.3554, -0.8225,  3.3906,  3.3509, -1.4484,  3.5124, -2.6519,\n",
            "         0.9721, -2.5068, -3.4962,  3.4743,  1.1525, -2.7555, -3.1673,\n",
            "         2.2906,  2.5914,  1.5992, -1.2859, -0.5682,  2.1488, -2.0631,\n",
            "         2.6281, -2.4639,  2.2622,  2.3632, -0.1979,  0.7160,  1.7594,\n",
            "         0.0761, -2.8886, -3.5467,  2.7691,  0.8280, -2.2398, -1.4602,\n",
            "        -1.3475, -1.4738,  0.6338,  3.2811, -3.0628,  2.7044,  1.2775,\n",
            "         2.8856, -3.3938,  2.7056,  0.5826, -0.6286,  1.2381,  0.7316,\n",
            "        -2.4725, -1.2958, -3.1543, -0.8584,  0.5517,  2.8176,  0.0947,\n",
            "        -1.6849, -1.4968,  3.1039,  1.7680,  1.1803, -1.4402,  2.5710,\n",
            "        -3.3057,  1.9027])\n"
          ],
          "name": "stdout"
        }
      ]
    },
    {
      "cell_type": "markdown",
      "metadata": {
        "id": "pm0cXkvRUQNN",
        "colab_type": "text"
      },
      "source": [
        "现在我们来举几个例子。\n"
      ]
    },
    {
      "cell_type": "code",
      "metadata": {
        "id": "mj0K1x8qUQNO",
        "colab_type": "code",
        "outputId": "01aa37b7-5c87-417a-f4a9-eab00545fcc0",
        "colab": {}
      },
      "source": [
        "# 将偏移量全部赋为0\n",
        "model.fc1.bias.data.fill_(0)"
      ],
      "execution_count": 0,
      "outputs": [
        {
          "output_type": "execute_result",
          "data": {
            "text/plain": [
              "tensor([ 0.,  0.,  0.,  0.,  0.,  0.,  0.,  0.,  0.,  0.,  0.,  0.,\n",
              "         0.,  0.,  0.,  0.,  0.,  0.,  0.,  0.,  0.,  0.,  0.,  0.,\n",
              "         0.,  0.,  0.,  0.,  0.,  0.,  0.,  0.,  0.,  0.,  0.,  0.,\n",
              "         0.,  0.,  0.,  0.,  0.,  0.,  0.,  0.,  0.,  0.,  0.,  0.,\n",
              "         0.,  0.,  0.,  0.,  0.,  0.,  0.,  0.,  0.,  0.,  0.,  0.,\n",
              "         0.,  0.,  0.,  0.,  0.,  0.,  0.,  0.,  0.,  0.,  0.,  0.,\n",
              "         0.,  0.,  0.,  0.,  0.,  0.,  0.,  0.,  0.,  0.,  0.,  0.,\n",
              "         0.,  0.,  0.,  0.,  0.,  0.,  0.,  0.,  0.,  0.,  0.,  0.,\n",
              "         0.,  0.,  0.,  0.,  0.,  0.,  0.,  0.,  0.,  0.,  0.,  0.,\n",
              "         0.,  0.,  0.,  0.,  0.,  0.,  0.,  0.,  0.,  0.,  0.,  0.,\n",
              "         0.,  0.,  0.,  0.,  0.,  0.,  0.,  0.])"
            ]
          },
          "metadata": {
            "tags": []
          },
          "execution_count": 13
        }
      ]
    },
    {
      "cell_type": "code",
      "metadata": {
        "id": "1RSfKVEjUQNR",
        "colab_type": "code",
        "outputId": "7f58546c-cf91-4fa2-996a-75c27b38307c",
        "colab": {}
      },
      "source": [
        "# 设为方差为1，均值为0的正态随机数\n",
        "model.fc1.weight.data.normal_(std=0.01)"
      ],
      "execution_count": 0,
      "outputs": [
        {
          "output_type": "execute_result",
          "data": {
            "text/plain": [
              "tensor([[ 5.9294e-03,  9.6176e-04,  9.5034e-03,  ..., -1.2588e-03,\n",
              "          3.4878e-03,  1.4495e-02],\n",
              "        [-9.3127e-04, -1.0287e-02,  3.5423e-03,  ...,  1.1155e-02,\n",
              "          2.5012e-03,  1.3503e-02],\n",
              "        [-1.5078e-02,  8.1119e-03,  5.0678e-03,  ...,  2.8613e-03,\n",
              "          9.7443e-03, -6.5530e-03],\n",
              "        ...,\n",
              "        [-2.2938e-03, -1.8630e-02, -4.2459e-03,  ...,  1.4718e-02,\n",
              "          2.7655e-03,  3.2661e-03],\n",
              "        [-3.0470e-03,  1.2617e-02, -7.9772e-03,  ..., -1.4699e-02,\n",
              "         -9.1425e-03,  5.3492e-03],\n",
              "        [ 2.5911e-03,  2.4797e-03, -6.1172e-03,  ...,  1.0584e-02,\n",
              "         -1.0307e-02, -3.1901e-03]])"
            ]
          },
          "metadata": {
            "tags": []
          },
          "execution_count": 14
        }
      ]
    },
    {
      "cell_type": "markdown",
      "metadata": {
        "id": "VgWCshWGUQNT",
        "colab_type": "text"
      },
      "source": [
        "### 前相传递\n",
        "\n",
        "我们来看一下，一幅图像通过网络有什么变化。"
      ]
    },
    {
      "cell_type": "code",
      "metadata": {
        "id": "h1dnDsp4UQNU",
        "colab_type": "code",
        "outputId": "e3ad314a-fc14-4cb3-d317-8a3d8da4b428",
        "colab": {}
      },
      "source": [
        "# 加载数据\n",
        "dataiter = iter(trainloader)\n",
        "images, labels = dataiter.next()\n",
        "\n",
        "# 转化为1维向量 (batch size, color channels, image pixels) \n",
        "images.resize_(64, 1, 784)\n",
        "# 或者 images.resize_(images.shape[0], 1, 784) 来自动获取 batch size\n",
        "\n",
        "# 前向通过网络\n",
        "img_idx = 0\n",
        "ps = model.forward(images[img_idx,:])\n",
        "\n",
        "img = images[img_idx]\n",
        "helper.view_classify(img.view(1, 28, 28), ps)"
      ],
      "execution_count": 0,
      "outputs": [
        {
          "output_type": "display_data",
          "data": {
            "image/png": "[encoded data removed]",
            "text/plain": [
              "<Figure size 432x648 with 2 Axes>"
            ]
          },
          "metadata": {
            "tags": [],
            "image/png": {
              "height": 226,
              "width": 423
            },
            "needs_background": "light"
          }
        }
      ]
    },
    {
      "cell_type": "markdown",
      "metadata": {
        "id": "YL5eIbRZUQNX",
        "colab_type": "text"
      },
      "source": [
        "截止到目前为止，网络还是不好用，因为所有权重都是随机地！\n",
        "\n",
        "### 使用 `nn.Sequential`\n",
        "\n",
        "\n",
        "\n",
        "PyTorch提供了一种方便的方法来构建网络，它叫做`nn.Sequential`` ([documentation](https://pytorch.org/docs/master/nn.html#torch.nn.Sequential))。我们来看一下例子：\n"
      ]
    },
    {
      "cell_type": "code",
      "metadata": {
        "id": "sz7nrrppUQNb",
        "colab_type": "code",
        "outputId": "c7f0f760-bbe6-4915-e73d-3d8be48f6d53",
        "colab": {}
      },
      "source": [
        "# 网络的超变量\n",
        "input_size = 784\n",
        "hidden_sizes = [128, 64]\n",
        "output_size = 10\n",
        "\n",
        "# 建立网络\n",
        "model = nn.Sequential(nn.Linear(input_size, hidden_sizes[0]),\n",
        "                      nn.ReLU(),\n",
        "                      nn.Linear(hidden_sizes[0], hidden_sizes[1]),\n",
        "                      nn.ReLU(),\n",
        "                      nn.Linear(hidden_sizes[1], output_size),\n",
        "                      nn.Softmax(dim=1))\n",
        "print(model)\n",
        "\n",
        "# 使数据通过网络\n",
        "images, labels = next(iter(trainloader))\n",
        "images.resize_(images.shape[0], 1, 784)\n",
        "ps = model.forward(images[0,:])\n",
        "helper.view_classify(images[0].view(1, 28, 28), ps)"
      ],
      "execution_count": 0,
      "outputs": [
        {
          "output_type": "stream",
          "text": [
            "Sequential(\n",
            "  (0): Linear(in_features=784, out_features=128, bias=True)\n",
            "  (1): ReLU()\n",
            "  (2): Linear(in_features=128, out_features=64, bias=True)\n",
            "  (3): ReLU()\n",
            "  (4): Linear(in_features=64, out_features=10, bias=True)\n",
            "  (5): Softmax()\n",
            ")\n"
          ],
          "name": "stdout"
        },
        {
          "output_type": "display_data",
          "data": {
            "image/png": "[encoded data removed]",
            "text/plain": [
              "<Figure size 432x648 with 2 Axes>"
            ]
          },
          "metadata": {
            "tags": [],
            "image/png": {
              "height": 226,
              "width": 423
            },
            "needs_background": "light"
          }
        }
      ]
    },
    {
      "cell_type": "markdown",
      "metadata": {
        "id": "ukU_grGSUQNh",
        "colab_type": "text"
      },
      "source": [
        "如果你想进行一次线性运算并查看权重，你可以使用`model[0]`。"
      ]
    },
    {
      "cell_type": "code",
      "metadata": {
        "id": "SMl3wz56UQNi",
        "colab_type": "code",
        "outputId": "dfd1321f-f40a-4a7f-f0eb-c12b6e049c29",
        "colab": {}
      },
      "source": [
        "print(model[0])\n",
        "model[0].weight"
      ],
      "execution_count": 0,
      "outputs": [
        {
          "output_type": "stream",
          "text": [
            "Linear(in_features=784, out_features=128, bias=True)\n"
          ],
          "name": "stdout"
        },
        {
          "output_type": "execute_result",
          "data": {
            "text/plain": [
              "Parameter containing:\n",
              "tensor([[-7.0372e-03,  2.9689e-02,  2.6028e-02,  ...,  1.1196e-02,\n",
              "         -2.1928e-02, -3.4886e-02],\n",
              "        [ 1.0624e-04, -1.6610e-02, -2.2891e-02,  ..., -6.4412e-03,\n",
              "         -2.5026e-02,  1.0674e-02],\n",
              "        [-2.4707e-02,  1.4146e-02,  2.0084e-02,  ...,  1.2227e-02,\n",
              "          2.3441e-02, -9.5175e-03],\n",
              "        ...,\n",
              "        [-2.0119e-02,  7.2614e-03, -1.3481e-02,  ...,  8.1745e-03,\n",
              "         -1.3348e-02, -1.1955e-02],\n",
              "        [ 3.2282e-02,  1.8674e-02, -3.0826e-02,  ...,  1.7296e-02,\n",
              "         -2.6710e-02, -3.0684e-02],\n",
              "        [ 1.7686e-02,  3.1376e-02, -2.2645e-02,  ...,  2.4630e-02,\n",
              "          3.1129e-02,  7.0939e-03]])"
            ]
          },
          "metadata": {
            "tags": []
          },
          "execution_count": 17
        }
      ]
    },
    {
      "cell_type": "markdown",
      "metadata": {
        "id": "YR9c8aYkUQNn",
        "colab_type": "text"
      },
      "source": [
        "你甚至还可以使用一个字典`OrderedDict`来存储这些变量，这样的好处就是保证你的变量不会重名。"
      ]
    },
    {
      "cell_type": "code",
      "metadata": {
        "id": "LtbfeTq1UQNo",
        "colab_type": "code",
        "outputId": "f01f4d81-853a-45a3-a93b-a7b053197ee7",
        "colab": {}
      },
      "source": [
        "from collections import OrderedDict\n",
        "model = nn.Sequential(OrderedDict([\n",
        "                      ('fc1', nn.Linear(input_size, hidden_sizes[0])),\n",
        "                      ('relu1', nn.ReLU()),\n",
        "                      ('fc2', nn.Linear(hidden_sizes[0], hidden_sizes[1])),\n",
        "                      ('relu2', nn.ReLU()),\n",
        "                      ('output', nn.Linear(hidden_sizes[1], output_size)),\n",
        "                      ('softmax', nn.Softmax(dim=1))]))\n",
        "model"
      ],
      "execution_count": 0,
      "outputs": [
        {
          "output_type": "execute_result",
          "data": {
            "text/plain": [
              "Sequential(\n",
              "  (fc1): Linear(in_features=784, out_features=128, bias=True)\n",
              "  (relu1): ReLU()\n",
              "  (fc2): Linear(in_features=128, out_features=64, bias=True)\n",
              "  (relu2): ReLU()\n",
              "  (output): Linear(in_features=64, out_features=10, bias=True)\n",
              "  (softmax): Softmax()\n",
              ")"
            ]
          },
          "metadata": {
            "tags": []
          },
          "execution_count": 18
        }
      ]
    },
    {
      "cell_type": "markdown",
      "metadata": {
        "id": "Vsad0udSUQNt",
        "colab_type": "text"
      },
      "source": [
        "你可以使用每层的序号或者名字来快速访问他们。"
      ]
    },
    {
      "cell_type": "code",
      "metadata": {
        "id": "JGVYLnEVUQNt",
        "colab_type": "code",
        "outputId": "9be3cf3a-070d-4b2a-b350-c9384c2e1a4d",
        "colab": {}
      },
      "source": [
        "print(model[0])\n",
        "print(model.fc1)"
      ],
      "execution_count": 0,
      "outputs": [
        {
          "output_type": "stream",
          "text": [
            "Linear(in_features=784, out_features=128, bias=True)\n",
            "Linear(in_features=784, out_features=128, bias=True)\n"
          ],
          "name": "stdout"
        }
      ]
    },
    {
      "cell_type": "markdown",
      "metadata": {
        "id": "89lfxXEdUQNw",
        "colab_type": "text"
      },
      "source": [
        "下一篇文章我们来讲一下如何训练这个网络。"
      ]
    }
  ]
}